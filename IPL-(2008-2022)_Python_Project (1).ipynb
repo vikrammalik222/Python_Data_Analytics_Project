{
 "cells": [
  {
   "cell_type": "markdown",
   "id": "e21749d4",
   "metadata": {},
   "source": [
    "<img src=\"ipl-logo-22.webp\" width=\"800\" />"
   ]
  },
  {
   "cell_type": "markdown",
   "id": "ddcb87de",
   "metadata": {},
   "source": [
    "import numpy as np\n",
    "import pandas as pd\n",
    "import matplotlib.pyplot as plt\n",
    "import seaborn as sns\n",
    "%matplotlib inline"
   ]
  },
  {
   "cell_type": "code",
   "execution_count": 20,
   "id": "84c5588c",
   "metadata": {},
   "outputs": [
    {
     "data": {
      "text/html": [
       "<div>\n",
       "<style scoped>\n",
       "    .dataframe tbody tr th:only-of-type {\n",
       "        vertical-align: middle;\n",
       "    }\n",
       "\n",
       "    .dataframe tbody tr th {\n",
       "        vertical-align: top;\n",
       "    }\n",
       "\n",
       "    .dataframe thead th {\n",
       "        text-align: right;\n",
       "    }\n",
       "</style>\n",
       "<table border=\"1\" class=\"dataframe\">\n",
       "  <thead>\n",
       "    <tr style=\"text-align: right;\">\n",
       "      <th></th>\n",
       "      <th>ID</th>\n",
       "      <th>City</th>\n",
       "      <th>Date</th>\n",
       "      <th>Season</th>\n",
       "      <th>MatchNumber</th>\n",
       "      <th>Team1</th>\n",
       "      <th>Team2</th>\n",
       "      <th>Venue</th>\n",
       "      <th>TossWinner</th>\n",
       "      <th>TossDecision</th>\n",
       "      <th>SuperOver</th>\n",
       "      <th>WinningTeam</th>\n",
       "      <th>WonBy</th>\n",
       "      <th>Margin</th>\n",
       "      <th>method</th>\n",
       "      <th>Player_of_Match</th>\n",
       "      <th>Team1Players</th>\n",
       "      <th>Team2Players</th>\n",
       "      <th>Umpire1</th>\n",
       "      <th>Umpire2</th>\n",
       "    </tr>\n",
       "  </thead>\n",
       "  <tbody>\n",
       "    <tr>\n",
       "      <th>0</th>\n",
       "      <td>1312200</td>\n",
       "      <td>Ahmedabad</td>\n",
       "      <td>2022-05-29</td>\n",
       "      <td>2022</td>\n",
       "      <td>Final</td>\n",
       "      <td>Rajasthan Royals</td>\n",
       "      <td>Gujarat Titans</td>\n",
       "      <td>Narendra Modi Stadium, Ahmedabad</td>\n",
       "      <td>Rajasthan Royals</td>\n",
       "      <td>bat</td>\n",
       "      <td>N</td>\n",
       "      <td>Gujarat Titans</td>\n",
       "      <td>Wickets</td>\n",
       "      <td>7.0</td>\n",
       "      <td>NaN</td>\n",
       "      <td>HH Pandya</td>\n",
       "      <td>['YBK Jaiswal', 'JC Buttler', 'SV Samson', 'D ...</td>\n",
       "      <td>['WP Saha', 'Shubman Gill', 'MS Wade', 'HH Pan...</td>\n",
       "      <td>CB Gaffaney</td>\n",
       "      <td>Nitin Menon</td>\n",
       "    </tr>\n",
       "    <tr>\n",
       "      <th>1</th>\n",
       "      <td>1312199</td>\n",
       "      <td>Ahmedabad</td>\n",
       "      <td>2022-05-27</td>\n",
       "      <td>2022</td>\n",
       "      <td>Qualifier 2</td>\n",
       "      <td>Royal Challengers Bangalore</td>\n",
       "      <td>Rajasthan Royals</td>\n",
       "      <td>Narendra Modi Stadium, Ahmedabad</td>\n",
       "      <td>Rajasthan Royals</td>\n",
       "      <td>field</td>\n",
       "      <td>N</td>\n",
       "      <td>Rajasthan Royals</td>\n",
       "      <td>Wickets</td>\n",
       "      <td>7.0</td>\n",
       "      <td>NaN</td>\n",
       "      <td>JC Buttler</td>\n",
       "      <td>['V Kohli', 'F du Plessis', 'RM Patidar', 'GJ ...</td>\n",
       "      <td>['YBK Jaiswal', 'JC Buttler', 'SV Samson', 'D ...</td>\n",
       "      <td>CB Gaffaney</td>\n",
       "      <td>Nitin Menon</td>\n",
       "    </tr>\n",
       "    <tr>\n",
       "      <th>2</th>\n",
       "      <td>1312198</td>\n",
       "      <td>Kolkata</td>\n",
       "      <td>2022-05-25</td>\n",
       "      <td>2022</td>\n",
       "      <td>Eliminator</td>\n",
       "      <td>Royal Challengers Bangalore</td>\n",
       "      <td>Lucknow Super Giants</td>\n",
       "      <td>Eden Gardens, Kolkata</td>\n",
       "      <td>Lucknow Super Giants</td>\n",
       "      <td>field</td>\n",
       "      <td>N</td>\n",
       "      <td>Royal Challengers Bangalore</td>\n",
       "      <td>Runs</td>\n",
       "      <td>14.0</td>\n",
       "      <td>NaN</td>\n",
       "      <td>RM Patidar</td>\n",
       "      <td>['V Kohli', 'F du Plessis', 'RM Patidar', 'GJ ...</td>\n",
       "      <td>['Q de Kock', 'KL Rahul', 'M Vohra', 'DJ Hooda...</td>\n",
       "      <td>J Madanagopal</td>\n",
       "      <td>MA Gough</td>\n",
       "    </tr>\n",
       "    <tr>\n",
       "      <th>3</th>\n",
       "      <td>1312197</td>\n",
       "      <td>Kolkata</td>\n",
       "      <td>2022-05-24</td>\n",
       "      <td>2022</td>\n",
       "      <td>Qualifier 1</td>\n",
       "      <td>Rajasthan Royals</td>\n",
       "      <td>Gujarat Titans</td>\n",
       "      <td>Eden Gardens, Kolkata</td>\n",
       "      <td>Gujarat Titans</td>\n",
       "      <td>field</td>\n",
       "      <td>N</td>\n",
       "      <td>Gujarat Titans</td>\n",
       "      <td>Wickets</td>\n",
       "      <td>7.0</td>\n",
       "      <td>NaN</td>\n",
       "      <td>DA Miller</td>\n",
       "      <td>['YBK Jaiswal', 'JC Buttler', 'SV Samson', 'D ...</td>\n",
       "      <td>['WP Saha', 'Shubman Gill', 'MS Wade', 'HH Pan...</td>\n",
       "      <td>BNJ Oxenford</td>\n",
       "      <td>VK Sharma</td>\n",
       "    </tr>\n",
       "    <tr>\n",
       "      <th>4</th>\n",
       "      <td>1304116</td>\n",
       "      <td>Mumbai</td>\n",
       "      <td>2022-05-22</td>\n",
       "      <td>2022</td>\n",
       "      <td>70</td>\n",
       "      <td>Sunrisers Hyderabad</td>\n",
       "      <td>Punjab Kings</td>\n",
       "      <td>Wankhede Stadium, Mumbai</td>\n",
       "      <td>Sunrisers Hyderabad</td>\n",
       "      <td>bat</td>\n",
       "      <td>N</td>\n",
       "      <td>Punjab Kings</td>\n",
       "      <td>Wickets</td>\n",
       "      <td>5.0</td>\n",
       "      <td>NaN</td>\n",
       "      <td>Harpreet Brar</td>\n",
       "      <td>['PK Garg', 'Abhishek Sharma', 'RA Tripathi', ...</td>\n",
       "      <td>['JM Bairstow', 'S Dhawan', 'M Shahrukh Khan',...</td>\n",
       "      <td>AK Chaudhary</td>\n",
       "      <td>NA Patwardhan</td>\n",
       "    </tr>\n",
       "  </tbody>\n",
       "</table>\n",
       "</div>"
      ],
      "text/plain": [
       "        ID       City        Date Season  MatchNumber  \\\n",
       "0  1312200  Ahmedabad  2022-05-29   2022        Final   \n",
       "1  1312199  Ahmedabad  2022-05-27   2022  Qualifier 2   \n",
       "2  1312198    Kolkata  2022-05-25   2022   Eliminator   \n",
       "3  1312197    Kolkata  2022-05-24   2022  Qualifier 1   \n",
       "4  1304116     Mumbai  2022-05-22   2022           70   \n",
       "\n",
       "                         Team1                 Team2  \\\n",
       "0             Rajasthan Royals        Gujarat Titans   \n",
       "1  Royal Challengers Bangalore      Rajasthan Royals   \n",
       "2  Royal Challengers Bangalore  Lucknow Super Giants   \n",
       "3             Rajasthan Royals        Gujarat Titans   \n",
       "4          Sunrisers Hyderabad          Punjab Kings   \n",
       "\n",
       "                              Venue            TossWinner TossDecision  \\\n",
       "0  Narendra Modi Stadium, Ahmedabad      Rajasthan Royals          bat   \n",
       "1  Narendra Modi Stadium, Ahmedabad      Rajasthan Royals        field   \n",
       "2             Eden Gardens, Kolkata  Lucknow Super Giants        field   \n",
       "3             Eden Gardens, Kolkata        Gujarat Titans        field   \n",
       "4          Wankhede Stadium, Mumbai   Sunrisers Hyderabad          bat   \n",
       "\n",
       "  SuperOver                  WinningTeam    WonBy  Margin method  \\\n",
       "0         N               Gujarat Titans  Wickets     7.0    NaN   \n",
       "1         N             Rajasthan Royals  Wickets     7.0    NaN   \n",
       "2         N  Royal Challengers Bangalore     Runs    14.0    NaN   \n",
       "3         N               Gujarat Titans  Wickets     7.0    NaN   \n",
       "4         N                 Punjab Kings  Wickets     5.0    NaN   \n",
       "\n",
       "  Player_of_Match                                       Team1Players  \\\n",
       "0       HH Pandya  ['YBK Jaiswal', 'JC Buttler', 'SV Samson', 'D ...   \n",
       "1      JC Buttler  ['V Kohli', 'F du Plessis', 'RM Patidar', 'GJ ...   \n",
       "2      RM Patidar  ['V Kohli', 'F du Plessis', 'RM Patidar', 'GJ ...   \n",
       "3       DA Miller  ['YBK Jaiswal', 'JC Buttler', 'SV Samson', 'D ...   \n",
       "4   Harpreet Brar  ['PK Garg', 'Abhishek Sharma', 'RA Tripathi', ...   \n",
       "\n",
       "                                        Team2Players        Umpire1  \\\n",
       "0  ['WP Saha', 'Shubman Gill', 'MS Wade', 'HH Pan...    CB Gaffaney   \n",
       "1  ['YBK Jaiswal', 'JC Buttler', 'SV Samson', 'D ...    CB Gaffaney   \n",
       "2  ['Q de Kock', 'KL Rahul', 'M Vohra', 'DJ Hooda...  J Madanagopal   \n",
       "3  ['WP Saha', 'Shubman Gill', 'MS Wade', 'HH Pan...   BNJ Oxenford   \n",
       "4  ['JM Bairstow', 'S Dhawan', 'M Shahrukh Khan',...   AK Chaudhary   \n",
       "\n",
       "         Umpire2  \n",
       "0    Nitin Menon  \n",
       "1    Nitin Menon  \n",
       "2       MA Gough  \n",
       "3      VK Sharma  \n",
       "4  NA Patwardhan  "
      ]
     },
     "execution_count": 20,
     "metadata": {},
     "output_type": "execute_result"
    }
   ],
   "source": [
    "df=pd.read_csv(r'C:\\Users\\malik\\Downloads\\IPL_Matches_2008_2022.csv')\n",
    "df.head()"
   ]
  },
  {
   "cell_type": "code",
   "execution_count": 21,
   "id": "d8256299",
   "metadata": {},
   "outputs": [
    {
     "data": {
      "text/html": [
       "<div>\n",
       "<style scoped>\n",
       "    .dataframe tbody tr th:only-of-type {\n",
       "        vertical-align: middle;\n",
       "    }\n",
       "\n",
       "    .dataframe tbody tr th {\n",
       "        vertical-align: top;\n",
       "    }\n",
       "\n",
       "    .dataframe thead th {\n",
       "        text-align: right;\n",
       "    }\n",
       "</style>\n",
       "<table border=\"1\" class=\"dataframe\">\n",
       "  <thead>\n",
       "    <tr style=\"text-align: right;\">\n",
       "      <th></th>\n",
       "      <th>ID</th>\n",
       "      <th>City</th>\n",
       "      <th>Date</th>\n",
       "      <th>Season</th>\n",
       "      <th>MatchNumber</th>\n",
       "      <th>Team1</th>\n",
       "      <th>Team2</th>\n",
       "      <th>Venue</th>\n",
       "      <th>TossWinner</th>\n",
       "      <th>TossDecision</th>\n",
       "      <th>SuperOver</th>\n",
       "      <th>WinningTeam</th>\n",
       "      <th>WonBy</th>\n",
       "      <th>Margin</th>\n",
       "      <th>method</th>\n",
       "      <th>Player_of_Match</th>\n",
       "      <th>Team1Players</th>\n",
       "      <th>Team2Players</th>\n",
       "      <th>Umpire1</th>\n",
       "      <th>Umpire2</th>\n",
       "    </tr>\n",
       "  </thead>\n",
       "  <tbody>\n",
       "    <tr>\n",
       "      <th>945</th>\n",
       "      <td>335986</td>\n",
       "      <td>Kolkata</td>\n",
       "      <td>2008-04-20</td>\n",
       "      <td>2007/08</td>\n",
       "      <td>4</td>\n",
       "      <td>Kolkata Knight Riders</td>\n",
       "      <td>Deccan Chargers</td>\n",
       "      <td>Eden Gardens</td>\n",
       "      <td>Deccan Chargers</td>\n",
       "      <td>bat</td>\n",
       "      <td>N</td>\n",
       "      <td>Kolkata Knight Riders</td>\n",
       "      <td>Wickets</td>\n",
       "      <td>5.0</td>\n",
       "      <td>NaN</td>\n",
       "      <td>DJ Hussey</td>\n",
       "      <td>['WP Saha', 'BB McCullum', 'RT Ponting', 'SC G...</td>\n",
       "      <td>['AC Gilchrist', 'Y Venugopal Rao', 'VVS Laxma...</td>\n",
       "      <td>BF Bowden</td>\n",
       "      <td>K Hariharan</td>\n",
       "    </tr>\n",
       "    <tr>\n",
       "      <th>946</th>\n",
       "      <td>335985</td>\n",
       "      <td>Mumbai</td>\n",
       "      <td>2008-04-20</td>\n",
       "      <td>2007/08</td>\n",
       "      <td>5</td>\n",
       "      <td>Mumbai Indians</td>\n",
       "      <td>Royal Challengers Bangalore</td>\n",
       "      <td>Wankhede Stadium</td>\n",
       "      <td>Mumbai Indians</td>\n",
       "      <td>bat</td>\n",
       "      <td>N</td>\n",
       "      <td>Royal Challengers Bangalore</td>\n",
       "      <td>Wickets</td>\n",
       "      <td>5.0</td>\n",
       "      <td>NaN</td>\n",
       "      <td>MV Boucher</td>\n",
       "      <td>['L Ronchi', 'ST Jayasuriya', 'DJ Thornely', '...</td>\n",
       "      <td>['S Chanderpaul', 'R Dravid', 'LRPL Taylor', '...</td>\n",
       "      <td>SJ Davis</td>\n",
       "      <td>DJ Harper</td>\n",
       "    </tr>\n",
       "    <tr>\n",
       "      <th>947</th>\n",
       "      <td>335984</td>\n",
       "      <td>Delhi</td>\n",
       "      <td>2008-04-19</td>\n",
       "      <td>2007/08</td>\n",
       "      <td>3</td>\n",
       "      <td>Delhi Daredevils</td>\n",
       "      <td>Rajasthan Royals</td>\n",
       "      <td>Feroz Shah Kotla</td>\n",
       "      <td>Rajasthan Royals</td>\n",
       "      <td>bat</td>\n",
       "      <td>N</td>\n",
       "      <td>Delhi Daredevils</td>\n",
       "      <td>Wickets</td>\n",
       "      <td>9.0</td>\n",
       "      <td>NaN</td>\n",
       "      <td>MF Maharoof</td>\n",
       "      <td>['G Gambhir', 'V Sehwag', 'S Dhawan', 'MK Tiwa...</td>\n",
       "      <td>['T Kohli', 'YK Pathan', 'SR Watson', 'M Kaif'...</td>\n",
       "      <td>Aleem Dar</td>\n",
       "      <td>GA Pratapkumar</td>\n",
       "    </tr>\n",
       "    <tr>\n",
       "      <th>948</th>\n",
       "      <td>335983</td>\n",
       "      <td>Chandigarh</td>\n",
       "      <td>2008-04-19</td>\n",
       "      <td>2007/08</td>\n",
       "      <td>2</td>\n",
       "      <td>Kings XI Punjab</td>\n",
       "      <td>Chennai Super Kings</td>\n",
       "      <td>Punjab Cricket Association Stadium, Mohali</td>\n",
       "      <td>Chennai Super Kings</td>\n",
       "      <td>bat</td>\n",
       "      <td>N</td>\n",
       "      <td>Chennai Super Kings</td>\n",
       "      <td>Runs</td>\n",
       "      <td>33.0</td>\n",
       "      <td>NaN</td>\n",
       "      <td>MEK Hussey</td>\n",
       "      <td>['K Goel', 'JR Hopes', 'KC Sangakkara', 'Yuvra...</td>\n",
       "      <td>['PA Patel', 'ML Hayden', 'MEK Hussey', 'MS Dh...</td>\n",
       "      <td>MR Benson</td>\n",
       "      <td>SL Shastri</td>\n",
       "    </tr>\n",
       "    <tr>\n",
       "      <th>949</th>\n",
       "      <td>335982</td>\n",
       "      <td>Bangalore</td>\n",
       "      <td>2008-04-18</td>\n",
       "      <td>2007/08</td>\n",
       "      <td>1</td>\n",
       "      <td>Royal Challengers Bangalore</td>\n",
       "      <td>Kolkata Knight Riders</td>\n",
       "      <td>M Chinnaswamy Stadium</td>\n",
       "      <td>Royal Challengers Bangalore</td>\n",
       "      <td>field</td>\n",
       "      <td>N</td>\n",
       "      <td>Kolkata Knight Riders</td>\n",
       "      <td>Runs</td>\n",
       "      <td>140.0</td>\n",
       "      <td>NaN</td>\n",
       "      <td>BB McCullum</td>\n",
       "      <td>['R Dravid', 'W Jaffer', 'V Kohli', 'JH Kallis...</td>\n",
       "      <td>['SC Ganguly', 'BB McCullum', 'RT Ponting', 'D...</td>\n",
       "      <td>Asad Rauf</td>\n",
       "      <td>RE Koertzen</td>\n",
       "    </tr>\n",
       "  </tbody>\n",
       "</table>\n",
       "</div>"
      ],
      "text/plain": [
       "         ID        City        Date   Season MatchNumber  \\\n",
       "945  335986     Kolkata  2008-04-20  2007/08           4   \n",
       "946  335985      Mumbai  2008-04-20  2007/08           5   \n",
       "947  335984       Delhi  2008-04-19  2007/08           3   \n",
       "948  335983  Chandigarh  2008-04-19  2007/08           2   \n",
       "949  335982   Bangalore  2008-04-18  2007/08           1   \n",
       "\n",
       "                           Team1                        Team2  \\\n",
       "945        Kolkata Knight Riders              Deccan Chargers   \n",
       "946               Mumbai Indians  Royal Challengers Bangalore   \n",
       "947             Delhi Daredevils             Rajasthan Royals   \n",
       "948              Kings XI Punjab          Chennai Super Kings   \n",
       "949  Royal Challengers Bangalore        Kolkata Knight Riders   \n",
       "\n",
       "                                          Venue                   TossWinner  \\\n",
       "945                                Eden Gardens              Deccan Chargers   \n",
       "946                            Wankhede Stadium               Mumbai Indians   \n",
       "947                            Feroz Shah Kotla             Rajasthan Royals   \n",
       "948  Punjab Cricket Association Stadium, Mohali          Chennai Super Kings   \n",
       "949                       M Chinnaswamy Stadium  Royal Challengers Bangalore   \n",
       "\n",
       "    TossDecision SuperOver                  WinningTeam    WonBy  Margin  \\\n",
       "945          bat         N        Kolkata Knight Riders  Wickets     5.0   \n",
       "946          bat         N  Royal Challengers Bangalore  Wickets     5.0   \n",
       "947          bat         N             Delhi Daredevils  Wickets     9.0   \n",
       "948          bat         N          Chennai Super Kings     Runs    33.0   \n",
       "949        field         N        Kolkata Knight Riders     Runs   140.0   \n",
       "\n",
       "    method Player_of_Match                                       Team1Players  \\\n",
       "945    NaN       DJ Hussey  ['WP Saha', 'BB McCullum', 'RT Ponting', 'SC G...   \n",
       "946    NaN      MV Boucher  ['L Ronchi', 'ST Jayasuriya', 'DJ Thornely', '...   \n",
       "947    NaN     MF Maharoof  ['G Gambhir', 'V Sehwag', 'S Dhawan', 'MK Tiwa...   \n",
       "948    NaN      MEK Hussey  ['K Goel', 'JR Hopes', 'KC Sangakkara', 'Yuvra...   \n",
       "949    NaN     BB McCullum  ['R Dravid', 'W Jaffer', 'V Kohli', 'JH Kallis...   \n",
       "\n",
       "                                          Team2Players    Umpire1  \\\n",
       "945  ['AC Gilchrist', 'Y Venugopal Rao', 'VVS Laxma...  BF Bowden   \n",
       "946  ['S Chanderpaul', 'R Dravid', 'LRPL Taylor', '...   SJ Davis   \n",
       "947  ['T Kohli', 'YK Pathan', 'SR Watson', 'M Kaif'...  Aleem Dar   \n",
       "948  ['PA Patel', 'ML Hayden', 'MEK Hussey', 'MS Dh...  MR Benson   \n",
       "949  ['SC Ganguly', 'BB McCullum', 'RT Ponting', 'D...  Asad Rauf   \n",
       "\n",
       "            Umpire2  \n",
       "945     K Hariharan  \n",
       "946       DJ Harper  \n",
       "947  GA Pratapkumar  \n",
       "948      SL Shastri  \n",
       "949     RE Koertzen  "
      ]
     },
     "execution_count": 21,
     "metadata": {},
     "output_type": "execute_result"
    }
   ],
   "source": [
    "df.tail()"
   ]
  },
  {
   "cell_type": "code",
   "execution_count": 22,
   "id": "a2aed9dd",
   "metadata": {},
   "outputs": [
    {
     "data": {
      "text/plain": [
       "(950, 20)"
      ]
     },
     "execution_count": 22,
     "metadata": {},
     "output_type": "execute_result"
    }
   ],
   "source": [
    "df.shape"
   ]
  },
  {
   "cell_type": "code",
   "execution_count": 23,
   "id": "04e16083",
   "metadata": {},
   "outputs": [
    {
     "name": "stdout",
     "output_type": "stream",
     "text": [
      "<class 'pandas.core.frame.DataFrame'>\n",
      "RangeIndex: 950 entries, 0 to 949\n",
      "Data columns (total 20 columns):\n",
      " #   Column           Non-Null Count  Dtype  \n",
      "---  ------           --------------  -----  \n",
      " 0   ID               950 non-null    int64  \n",
      " 1   City             899 non-null    object \n",
      " 2   Date             950 non-null    object \n",
      " 3   Season           950 non-null    object \n",
      " 4   MatchNumber      950 non-null    object \n",
      " 5   Team1            950 non-null    object \n",
      " 6   Team2            950 non-null    object \n",
      " 7   Venue            950 non-null    object \n",
      " 8   TossWinner       950 non-null    object \n",
      " 9   TossDecision     950 non-null    object \n",
      " 10  SuperOver        946 non-null    object \n",
      " 11  WinningTeam      946 non-null    object \n",
      " 12  WonBy            950 non-null    object \n",
      " 13  Margin           932 non-null    float64\n",
      " 14  method           19 non-null     object \n",
      " 15  Player_of_Match  946 non-null    object \n",
      " 16  Team1Players     950 non-null    object \n",
      " 17  Team2Players     950 non-null    object \n",
      " 18  Umpire1          950 non-null    object \n",
      " 19  Umpire2          950 non-null    object \n",
      "dtypes: float64(1), int64(1), object(18)\n",
      "memory usage: 148.6+ KB\n"
     ]
    }
   ],
   "source": [
    "df.info()"
   ]
  },
  {
   "cell_type": "code",
   "execution_count": 24,
   "id": "d5f6e7c2",
   "metadata": {},
   "outputs": [
    {
     "data": {
      "text/plain": [
       "ID                   0\n",
       "City                51\n",
       "Date                 0\n",
       "Season               0\n",
       "MatchNumber          0\n",
       "Team1                0\n",
       "Team2                0\n",
       "Venue                0\n",
       "TossWinner           0\n",
       "TossDecision         0\n",
       "SuperOver            4\n",
       "WinningTeam          4\n",
       "WonBy                0\n",
       "Margin              18\n",
       "method             931\n",
       "Player_of_Match      4\n",
       "Team1Players         0\n",
       "Team2Players         0\n",
       "Umpire1              0\n",
       "Umpire2              0\n",
       "dtype: int64"
      ]
     },
     "execution_count": 24,
     "metadata": {},
     "output_type": "execute_result"
    }
   ],
   "source": [
    "df.isnull().sum()"
   ]
  },
  {
   "cell_type": "code",
   "execution_count": 25,
   "id": "cd59c361",
   "metadata": {},
   "outputs": [
    {
     "data": {
      "text/html": [
       "<div>\n",
       "<style scoped>\n",
       "    .dataframe tbody tr th:only-of-type {\n",
       "        vertical-align: middle;\n",
       "    }\n",
       "\n",
       "    .dataframe tbody tr th {\n",
       "        vertical-align: top;\n",
       "    }\n",
       "\n",
       "    .dataframe thead th {\n",
       "        text-align: right;\n",
       "    }\n",
       "</style>\n",
       "<table border=\"1\" class=\"dataframe\">\n",
       "  <thead>\n",
       "    <tr style=\"text-align: right;\">\n",
       "      <th></th>\n",
       "      <th>ID</th>\n",
       "      <th>City</th>\n",
       "      <th>Date</th>\n",
       "      <th>Season</th>\n",
       "      <th>MatchNumber</th>\n",
       "      <th>Team1</th>\n",
       "      <th>Team2</th>\n",
       "      <th>Venue</th>\n",
       "      <th>TossWinner</th>\n",
       "      <th>TossDecision</th>\n",
       "      <th>SuperOver</th>\n",
       "      <th>WinningTeam</th>\n",
       "      <th>WonBy</th>\n",
       "      <th>Margin</th>\n",
       "      <th>method</th>\n",
       "      <th>Player_of_Match</th>\n",
       "      <th>Team1Players</th>\n",
       "      <th>Team2Players</th>\n",
       "      <th>Umpire1</th>\n",
       "      <th>Umpire2</th>\n",
       "    </tr>\n",
       "  </thead>\n",
       "  <tbody>\n",
       "    <tr>\n",
       "      <th>0</th>\n",
       "      <td>1312200</td>\n",
       "      <td>Ahmedabad</td>\n",
       "      <td>2022-05-29</td>\n",
       "      <td>2022</td>\n",
       "      <td>Final</td>\n",
       "      <td>Rajasthan Royals</td>\n",
       "      <td>Gujarat Titans</td>\n",
       "      <td>Narendra Modi Stadium, Ahmedabad</td>\n",
       "      <td>Rajasthan Royals</td>\n",
       "      <td>bat</td>\n",
       "      <td>N</td>\n",
       "      <td>Gujarat Titans</td>\n",
       "      <td>Wickets</td>\n",
       "      <td>7.0</td>\n",
       "      <td>NaN</td>\n",
       "      <td>HH Pandya</td>\n",
       "      <td>['YBK Jaiswal', 'JC Buttler', 'SV Samson', 'D ...</td>\n",
       "      <td>['WP Saha', 'Shubman Gill', 'MS Wade', 'HH Pan...</td>\n",
       "      <td>CB Gaffaney</td>\n",
       "      <td>Nitin Menon</td>\n",
       "    </tr>\n",
       "    <tr>\n",
       "      <th>1</th>\n",
       "      <td>1312199</td>\n",
       "      <td>Ahmedabad</td>\n",
       "      <td>2022-05-27</td>\n",
       "      <td>2022</td>\n",
       "      <td>Qualifier 2</td>\n",
       "      <td>Royal Challengers Bangalore</td>\n",
       "      <td>Rajasthan Royals</td>\n",
       "      <td>Narendra Modi Stadium, Ahmedabad</td>\n",
       "      <td>Rajasthan Royals</td>\n",
       "      <td>field</td>\n",
       "      <td>N</td>\n",
       "      <td>Rajasthan Royals</td>\n",
       "      <td>Wickets</td>\n",
       "      <td>7.0</td>\n",
       "      <td>NaN</td>\n",
       "      <td>JC Buttler</td>\n",
       "      <td>['V Kohli', 'F du Plessis', 'RM Patidar', 'GJ ...</td>\n",
       "      <td>['YBK Jaiswal', 'JC Buttler', 'SV Samson', 'D ...</td>\n",
       "      <td>CB Gaffaney</td>\n",
       "      <td>Nitin Menon</td>\n",
       "    </tr>\n",
       "    <tr>\n",
       "      <th>2</th>\n",
       "      <td>1312198</td>\n",
       "      <td>Kolkata</td>\n",
       "      <td>2022-05-25</td>\n",
       "      <td>2022</td>\n",
       "      <td>Eliminator</td>\n",
       "      <td>Royal Challengers Bangalore</td>\n",
       "      <td>Lucknow Super Giants</td>\n",
       "      <td>Eden Gardens, Kolkata</td>\n",
       "      <td>Lucknow Super Giants</td>\n",
       "      <td>field</td>\n",
       "      <td>N</td>\n",
       "      <td>Royal Challengers Bangalore</td>\n",
       "      <td>Runs</td>\n",
       "      <td>14.0</td>\n",
       "      <td>NaN</td>\n",
       "      <td>RM Patidar</td>\n",
       "      <td>['V Kohli', 'F du Plessis', 'RM Patidar', 'GJ ...</td>\n",
       "      <td>['Q de Kock', 'KL Rahul', 'M Vohra', 'DJ Hooda...</td>\n",
       "      <td>J Madanagopal</td>\n",
       "      <td>MA Gough</td>\n",
       "    </tr>\n",
       "    <tr>\n",
       "      <th>3</th>\n",
       "      <td>1312197</td>\n",
       "      <td>Kolkata</td>\n",
       "      <td>2022-05-24</td>\n",
       "      <td>2022</td>\n",
       "      <td>Qualifier 1</td>\n",
       "      <td>Rajasthan Royals</td>\n",
       "      <td>Gujarat Titans</td>\n",
       "      <td>Eden Gardens, Kolkata</td>\n",
       "      <td>Gujarat Titans</td>\n",
       "      <td>field</td>\n",
       "      <td>N</td>\n",
       "      <td>Gujarat Titans</td>\n",
       "      <td>Wickets</td>\n",
       "      <td>7.0</td>\n",
       "      <td>NaN</td>\n",
       "      <td>DA Miller</td>\n",
       "      <td>['YBK Jaiswal', 'JC Buttler', 'SV Samson', 'D ...</td>\n",
       "      <td>['WP Saha', 'Shubman Gill', 'MS Wade', 'HH Pan...</td>\n",
       "      <td>BNJ Oxenford</td>\n",
       "      <td>VK Sharma</td>\n",
       "    </tr>\n",
       "    <tr>\n",
       "      <th>4</th>\n",
       "      <td>1304116</td>\n",
       "      <td>Mumbai</td>\n",
       "      <td>2022-05-22</td>\n",
       "      <td>2022</td>\n",
       "      <td>70</td>\n",
       "      <td>Sunrisers Hyderabad</td>\n",
       "      <td>Punjab Kings</td>\n",
       "      <td>Wankhede Stadium, Mumbai</td>\n",
       "      <td>Sunrisers Hyderabad</td>\n",
       "      <td>bat</td>\n",
       "      <td>N</td>\n",
       "      <td>Punjab Kings</td>\n",
       "      <td>Wickets</td>\n",
       "      <td>5.0</td>\n",
       "      <td>NaN</td>\n",
       "      <td>Harpreet Brar</td>\n",
       "      <td>['PK Garg', 'Abhishek Sharma', 'RA Tripathi', ...</td>\n",
       "      <td>['JM Bairstow', 'S Dhawan', 'M Shahrukh Khan',...</td>\n",
       "      <td>AK Chaudhary</td>\n",
       "      <td>NA Patwardhan</td>\n",
       "    </tr>\n",
       "  </tbody>\n",
       "</table>\n",
       "</div>"
      ],
      "text/plain": [
       "        ID       City        Date Season  MatchNumber  \\\n",
       "0  1312200  Ahmedabad  2022-05-29   2022        Final   \n",
       "1  1312199  Ahmedabad  2022-05-27   2022  Qualifier 2   \n",
       "2  1312198    Kolkata  2022-05-25   2022   Eliminator   \n",
       "3  1312197    Kolkata  2022-05-24   2022  Qualifier 1   \n",
       "4  1304116     Mumbai  2022-05-22   2022           70   \n",
       "\n",
       "                         Team1                 Team2  \\\n",
       "0             Rajasthan Royals        Gujarat Titans   \n",
       "1  Royal Challengers Bangalore      Rajasthan Royals   \n",
       "2  Royal Challengers Bangalore  Lucknow Super Giants   \n",
       "3             Rajasthan Royals        Gujarat Titans   \n",
       "4          Sunrisers Hyderabad          Punjab Kings   \n",
       "\n",
       "                              Venue            TossWinner TossDecision  \\\n",
       "0  Narendra Modi Stadium, Ahmedabad      Rajasthan Royals          bat   \n",
       "1  Narendra Modi Stadium, Ahmedabad      Rajasthan Royals        field   \n",
       "2             Eden Gardens, Kolkata  Lucknow Super Giants        field   \n",
       "3             Eden Gardens, Kolkata        Gujarat Titans        field   \n",
       "4          Wankhede Stadium, Mumbai   Sunrisers Hyderabad          bat   \n",
       "\n",
       "  SuperOver                  WinningTeam    WonBy  Margin method  \\\n",
       "0         N               Gujarat Titans  Wickets     7.0    NaN   \n",
       "1         N             Rajasthan Royals  Wickets     7.0    NaN   \n",
       "2         N  Royal Challengers Bangalore     Runs    14.0    NaN   \n",
       "3         N               Gujarat Titans  Wickets     7.0    NaN   \n",
       "4         N                 Punjab Kings  Wickets     5.0    NaN   \n",
       "\n",
       "  Player_of_Match                                       Team1Players  \\\n",
       "0       HH Pandya  ['YBK Jaiswal', 'JC Buttler', 'SV Samson', 'D ...   \n",
       "1      JC Buttler  ['V Kohli', 'F du Plessis', 'RM Patidar', 'GJ ...   \n",
       "2      RM Patidar  ['V Kohli', 'F du Plessis', 'RM Patidar', 'GJ ...   \n",
       "3       DA Miller  ['YBK Jaiswal', 'JC Buttler', 'SV Samson', 'D ...   \n",
       "4   Harpreet Brar  ['PK Garg', 'Abhishek Sharma', 'RA Tripathi', ...   \n",
       "\n",
       "                                        Team2Players        Umpire1  \\\n",
       "0  ['WP Saha', 'Shubman Gill', 'MS Wade', 'HH Pan...    CB Gaffaney   \n",
       "1  ['YBK Jaiswal', 'JC Buttler', 'SV Samson', 'D ...    CB Gaffaney   \n",
       "2  ['Q de Kock', 'KL Rahul', 'M Vohra', 'DJ Hooda...  J Madanagopal   \n",
       "3  ['WP Saha', 'Shubman Gill', 'MS Wade', 'HH Pan...   BNJ Oxenford   \n",
       "4  ['JM Bairstow', 'S Dhawan', 'M Shahrukh Khan',...   AK Chaudhary   \n",
       "\n",
       "         Umpire2  \n",
       "0    Nitin Menon  \n",
       "1    Nitin Menon  \n",
       "2       MA Gough  \n",
       "3      VK Sharma  \n",
       "4  NA Patwardhan  "
      ]
     },
     "execution_count": 25,
     "metadata": {},
     "output_type": "execute_result"
    }
   ],
   "source": [
    "df[df['method'].isnull()][0:5]"
   ]
  },
  {
   "cell_type": "code",
   "execution_count": 26,
   "id": "11986671",
   "metadata": {},
   "outputs": [
    {
     "data": {
      "text/html": [
       "<div>\n",
       "<style scoped>\n",
       "    .dataframe tbody tr th:only-of-type {\n",
       "        vertical-align: middle;\n",
       "    }\n",
       "\n",
       "    .dataframe tbody tr th {\n",
       "        vertical-align: top;\n",
       "    }\n",
       "\n",
       "    .dataframe thead th {\n",
       "        text-align: right;\n",
       "    }\n",
       "</style>\n",
       "<table border=\"1\" class=\"dataframe\">\n",
       "  <thead>\n",
       "    <tr style=\"text-align: right;\">\n",
       "      <th></th>\n",
       "      <th>ID</th>\n",
       "      <th>City</th>\n",
       "      <th>Date</th>\n",
       "      <th>Season</th>\n",
       "      <th>MatchNumber</th>\n",
       "      <th>Team1</th>\n",
       "      <th>Team2</th>\n",
       "      <th>Venue</th>\n",
       "      <th>TossWinner</th>\n",
       "      <th>TossDecision</th>\n",
       "      <th>SuperOver</th>\n",
       "      <th>WinningTeam</th>\n",
       "      <th>WonBy</th>\n",
       "      <th>Margin</th>\n",
       "      <th>method</th>\n",
       "      <th>Player_of_Match</th>\n",
       "      <th>Team1Players</th>\n",
       "      <th>Team2Players</th>\n",
       "      <th>Umpire1</th>\n",
       "      <th>Umpire2</th>\n",
       "    </tr>\n",
       "  </thead>\n",
       "  <tbody>\n",
       "    <tr>\n",
       "      <th>114</th>\n",
       "      <td>1254077</td>\n",
       "      <td>Chennai</td>\n",
       "      <td>2021-04-25</td>\n",
       "      <td>2021</td>\n",
       "      <td>20</td>\n",
       "      <td>Delhi Capitals</td>\n",
       "      <td>Sunrisers Hyderabad</td>\n",
       "      <td>MA Chidambaram Stadium, Chepauk, Chennai</td>\n",
       "      <td>Delhi Capitals</td>\n",
       "      <td>bat</td>\n",
       "      <td>Y</td>\n",
       "      <td>Delhi Capitals</td>\n",
       "      <td>SuperOver</td>\n",
       "      <td>NaN</td>\n",
       "      <td>NaN</td>\n",
       "      <td>PP Shaw</td>\n",
       "      <td>['PP Shaw', 'S Dhawan', 'RR Pant', 'SPD Smith'...</td>\n",
       "      <td>['DA Warner', 'JM Bairstow', 'KS Williamson', ...</td>\n",
       "      <td>CB Gaffaney</td>\n",
       "      <td>KN Ananthapadmanabhan</td>\n",
       "    </tr>\n",
       "    <tr>\n",
       "      <th>158</th>\n",
       "      <td>1216512</td>\n",
       "      <td>Abu Dhabi</td>\n",
       "      <td>2020-10-18</td>\n",
       "      <td>2020/21</td>\n",
       "      <td>35</td>\n",
       "      <td>Kolkata Knight Riders</td>\n",
       "      <td>Sunrisers Hyderabad</td>\n",
       "      <td>Sheikh Zayed Stadium</td>\n",
       "      <td>Sunrisers Hyderabad</td>\n",
       "      <td>field</td>\n",
       "      <td>Y</td>\n",
       "      <td>Kolkata Knight Riders</td>\n",
       "      <td>SuperOver</td>\n",
       "      <td>NaN</td>\n",
       "      <td>NaN</td>\n",
       "      <td>LH Ferguson</td>\n",
       "      <td>['Shubman Gill', 'RA Tripathi', 'N Rana', 'AD ...</td>\n",
       "      <td>['JM Bairstow', 'KS Williamson', 'PK Garg', 'D...</td>\n",
       "      <td>PG Pathak</td>\n",
       "      <td>S Ravi</td>\n",
       "    </tr>\n",
       "    <tr>\n",
       "      <th>159</th>\n",
       "      <td>1216517</td>\n",
       "      <td>NaN</td>\n",
       "      <td>2020-10-18</td>\n",
       "      <td>2020/21</td>\n",
       "      <td>36</td>\n",
       "      <td>Mumbai Indians</td>\n",
       "      <td>Kings XI Punjab</td>\n",
       "      <td>Dubai International Cricket Stadium</td>\n",
       "      <td>Mumbai Indians</td>\n",
       "      <td>bat</td>\n",
       "      <td>Y</td>\n",
       "      <td>Kings XI Punjab</td>\n",
       "      <td>SuperOver</td>\n",
       "      <td>NaN</td>\n",
       "      <td>NaN</td>\n",
       "      <td>KL Rahul</td>\n",
       "      <td>['RG Sharma', 'Q de Kock', 'SA Yadav', 'Ishan ...</td>\n",
       "      <td>['KL Rahul', 'MA Agarwal', 'CH Gayle', 'N Poor...</td>\n",
       "      <td>Nitin Menon</td>\n",
       "      <td>PR Reiffel</td>\n",
       "    </tr>\n",
       "    <tr>\n",
       "      <th>184</th>\n",
       "      <td>1216547</td>\n",
       "      <td>NaN</td>\n",
       "      <td>2020-09-28</td>\n",
       "      <td>2020/21</td>\n",
       "      <td>10</td>\n",
       "      <td>Royal Challengers Bangalore</td>\n",
       "      <td>Mumbai Indians</td>\n",
       "      <td>Dubai International Cricket Stadium</td>\n",
       "      <td>Mumbai Indians</td>\n",
       "      <td>field</td>\n",
       "      <td>Y</td>\n",
       "      <td>Royal Challengers Bangalore</td>\n",
       "      <td>SuperOver</td>\n",
       "      <td>NaN</td>\n",
       "      <td>NaN</td>\n",
       "      <td>AB de Villiers</td>\n",
       "      <td>['D Padikkal', 'AJ Finch', 'V Kohli', 'AB de V...</td>\n",
       "      <td>['RG Sharma', 'Q de Kock', 'SA Yadav', 'Ishan ...</td>\n",
       "      <td>Nitin Menon</td>\n",
       "      <td>PR Reiffel</td>\n",
       "    </tr>\n",
       "    <tr>\n",
       "      <th>192</th>\n",
       "      <td>1216493</td>\n",
       "      <td>NaN</td>\n",
       "      <td>2020-09-20</td>\n",
       "      <td>2020/21</td>\n",
       "      <td>2</td>\n",
       "      <td>Delhi Capitals</td>\n",
       "      <td>Kings XI Punjab</td>\n",
       "      <td>Dubai International Cricket Stadium</td>\n",
       "      <td>Kings XI Punjab</td>\n",
       "      <td>field</td>\n",
       "      <td>Y</td>\n",
       "      <td>Delhi Capitals</td>\n",
       "      <td>SuperOver</td>\n",
       "      <td>NaN</td>\n",
       "      <td>NaN</td>\n",
       "      <td>MP Stoinis</td>\n",
       "      <td>['PP Shaw', 'S Dhawan', 'SO Hetmyer', 'SS Iyer...</td>\n",
       "      <td>['KL Rahul', 'MA Agarwal', 'KK Nair', 'N Poora...</td>\n",
       "      <td>AK Chaudhary</td>\n",
       "      <td>Nitin Menon</td>\n",
       "    </tr>\n",
       "  </tbody>\n",
       "</table>\n",
       "</div>"
      ],
      "text/plain": [
       "          ID       City        Date   Season MatchNumber  \\\n",
       "114  1254077    Chennai  2021-04-25     2021          20   \n",
       "158  1216512  Abu Dhabi  2020-10-18  2020/21          35   \n",
       "159  1216517        NaN  2020-10-18  2020/21          36   \n",
       "184  1216547        NaN  2020-09-28  2020/21          10   \n",
       "192  1216493        NaN  2020-09-20  2020/21           2   \n",
       "\n",
       "                           Team1                Team2  \\\n",
       "114               Delhi Capitals  Sunrisers Hyderabad   \n",
       "158        Kolkata Knight Riders  Sunrisers Hyderabad   \n",
       "159               Mumbai Indians      Kings XI Punjab   \n",
       "184  Royal Challengers Bangalore       Mumbai Indians   \n",
       "192               Delhi Capitals      Kings XI Punjab   \n",
       "\n",
       "                                        Venue           TossWinner  \\\n",
       "114  MA Chidambaram Stadium, Chepauk, Chennai       Delhi Capitals   \n",
       "158                      Sheikh Zayed Stadium  Sunrisers Hyderabad   \n",
       "159       Dubai International Cricket Stadium       Mumbai Indians   \n",
       "184       Dubai International Cricket Stadium       Mumbai Indians   \n",
       "192       Dubai International Cricket Stadium      Kings XI Punjab   \n",
       "\n",
       "    TossDecision SuperOver                  WinningTeam      WonBy  Margin  \\\n",
       "114          bat         Y               Delhi Capitals  SuperOver     NaN   \n",
       "158        field         Y        Kolkata Knight Riders  SuperOver     NaN   \n",
       "159          bat         Y              Kings XI Punjab  SuperOver     NaN   \n",
       "184        field         Y  Royal Challengers Bangalore  SuperOver     NaN   \n",
       "192        field         Y               Delhi Capitals  SuperOver     NaN   \n",
       "\n",
       "    method Player_of_Match                                       Team1Players  \\\n",
       "114    NaN         PP Shaw  ['PP Shaw', 'S Dhawan', 'RR Pant', 'SPD Smith'...   \n",
       "158    NaN     LH Ferguson  ['Shubman Gill', 'RA Tripathi', 'N Rana', 'AD ...   \n",
       "159    NaN        KL Rahul  ['RG Sharma', 'Q de Kock', 'SA Yadav', 'Ishan ...   \n",
       "184    NaN  AB de Villiers  ['D Padikkal', 'AJ Finch', 'V Kohli', 'AB de V...   \n",
       "192    NaN      MP Stoinis  ['PP Shaw', 'S Dhawan', 'SO Hetmyer', 'SS Iyer...   \n",
       "\n",
       "                                          Team2Players       Umpire1  \\\n",
       "114  ['DA Warner', 'JM Bairstow', 'KS Williamson', ...   CB Gaffaney   \n",
       "158  ['JM Bairstow', 'KS Williamson', 'PK Garg', 'D...     PG Pathak   \n",
       "159  ['KL Rahul', 'MA Agarwal', 'CH Gayle', 'N Poor...   Nitin Menon   \n",
       "184  ['RG Sharma', 'Q de Kock', 'SA Yadav', 'Ishan ...   Nitin Menon   \n",
       "192  ['KL Rahul', 'MA Agarwal', 'KK Nair', 'N Poora...  AK Chaudhary   \n",
       "\n",
       "                   Umpire2  \n",
       "114  KN Ananthapadmanabhan  \n",
       "158                 S Ravi  \n",
       "159             PR Reiffel  \n",
       "184             PR Reiffel  \n",
       "192            Nitin Menon  "
      ]
     },
     "execution_count": 26,
     "metadata": {},
     "output_type": "execute_result"
    }
   ],
   "source": [
    "df[df['Margin'].isnull()][0:5]"
   ]
  },
  {
   "cell_type": "code",
   "execution_count": 27,
   "id": "c02f7d2a",
   "metadata": {},
   "outputs": [],
   "source": [
    "df.drop(['method'],axis=1,inplace=True)"
   ]
  },
  {
   "cell_type": "code",
   "execution_count": 28,
   "id": "cf0d74c4",
   "metadata": {},
   "outputs": [
    {
     "data": {
      "text/plain": [
       "ID                  0\n",
       "City               51\n",
       "Date                0\n",
       "Season              0\n",
       "MatchNumber         0\n",
       "Team1               0\n",
       "Team2               0\n",
       "Venue               0\n",
       "TossWinner          0\n",
       "TossDecision        0\n",
       "SuperOver           4\n",
       "WinningTeam         4\n",
       "WonBy               0\n",
       "Margin             18\n",
       "Player_of_Match     4\n",
       "Team1Players        0\n",
       "Team2Players        0\n",
       "Umpire1             0\n",
       "Umpire2             0\n",
       "dtype: int64"
      ]
     },
     "execution_count": 28,
     "metadata": {},
     "output_type": "execute_result"
    }
   ],
   "source": [
    "df.isnull().sum()"
   ]
  },
  {
   "cell_type": "code",
   "execution_count": 29,
   "id": "b2f0ec10",
   "metadata": {},
   "outputs": [],
   "source": [
    "df.dropna(inplace=True)"
   ]
  },
  {
   "cell_type": "code",
   "execution_count": 30,
   "id": "b4639e98",
   "metadata": {},
   "outputs": [
    {
     "data": {
      "text/plain": [
       "ID                 0\n",
       "City               0\n",
       "Date               0\n",
       "Season             0\n",
       "MatchNumber        0\n",
       "Team1              0\n",
       "Team2              0\n",
       "Venue              0\n",
       "TossWinner         0\n",
       "TossDecision       0\n",
       "SuperOver          0\n",
       "WinningTeam        0\n",
       "WonBy              0\n",
       "Margin             0\n",
       "Player_of_Match    0\n",
       "Team1Players       0\n",
       "Team2Players       0\n",
       "Umpire1            0\n",
       "Umpire2            0\n",
       "dtype: int64"
      ]
     },
     "execution_count": 30,
     "metadata": {},
     "output_type": "execute_result"
    }
   ],
   "source": [
    "df.isnull().sum()"
   ]
  },
  {
   "cell_type": "markdown",
   "id": "0cdeb364",
   "metadata": {},
   "source": [
    "# Relation between winning toss and winning the match"
   ]
  },
  {
   "cell_type": "code",
   "execution_count": 167,
   "id": "bb3ac1bb",
   "metadata": {},
   "outputs": [
    {
     "data": {
      "text/plain": [
       "<matplotlib.legend.Legend at 0x207be60d8e0>"
      ]
     },
     "execution_count": 167,
     "metadata": {},
     "output_type": "execute_result"
    },
    {
     "data": {
      "image/png": "[encoded data removed]",
      "text/plain": [
       "<Figure size 1224x1152 with 1 Axes>"
      ]
     },
     "metadata": {},
     "output_type": "display_data"
    }
   ],
   "source": [
    "plt.figure(figsize=(17,16))\n",
    "toss_winner=df[df['TossWinner']==df['WinningTeam']]\n",
    "toss_winner['WinningTeam'].value_counts().plot(kind='pie',autopct='%.6f')\n",
    "plt.title(\"winners as well as toss_winners\")\n",
    "plt.legend()"
   ]
  },
  {
   "cell_type": "markdown",
   "id": "5a798be9",
   "metadata": {},
   "source": [
    "# Who wins the maximum no of player of the match titles?"
   ]
  },
  {
   "cell_type": "code",
   "execution_count": 39,
   "id": "904e2da7",
   "metadata": {},
   "outputs": [
    {
     "data": {
      "text/plain": [
       "AB de Villiers    22\n",
       "CH Gayle          21\n",
       "DA Warner         18\n",
       "RG Sharma         18\n",
       "MS Dhoni          17\n",
       "                  ..\n",
       "SO Hetmyer         1\n",
       "MS Gony            1\n",
       "GH Vihari          1\n",
       "Kartik Tyagi       1\n",
       "MF Maharoof        1\n",
       "Name: Player_of_Match, Length: 259, dtype: int64"
      ]
     },
     "execution_count": 39,
     "metadata": {},
     "output_type": "execute_result"
    }
   ],
   "source": [
    "df['Player_of_Match'].value_counts()"
   ]
  },
  {
   "cell_type": "code",
   "execution_count": 40,
   "id": "a44787d2",
   "metadata": {},
   "outputs": [
    {
     "data": {
      "text/plain": [
       "AB de Villiers    22\n",
       "CH Gayle          21\n",
       "DA Warner         18\n",
       "RG Sharma         18\n",
       "MS Dhoni          17\n",
       "SR Watson         15\n",
       "YK Pathan         15\n",
       "SK Raina          14\n",
       "KA Pollard        14\n",
       "G Gambhir         13\n",
       "Name: Player_of_Match, dtype: int64"
      ]
     },
     "execution_count": 40,
     "metadata": {},
     "output_type": "execute_result"
    }
   ],
   "source": [
    "df['Player_of_Match'].value_counts()[0:10]"
   ]
  },
  {
   "cell_type": "code",
   "execution_count": 50,
   "id": "8ace024b",
   "metadata": {
    "scrolled": false
   },
   "outputs": [
    {
     "data": {
      "image/png": "[encoded data removed]",
      "text/plain": [
       "<Figure size 864x720 with 1 Axes>"
      ]
     },
     "metadata": {
      "needs_background": "light"
     },
     "output_type": "display_data"
    }
   ],
   "source": [
    "plt.figure(figsize=(12,10))\n",
    "plt.bar(list(df['Player_of_Match'].value_counts()[0:10].keys()),list(df['Player_of_Match'].value_counts()[0:10]))\n",
    "plt.title(\"Player_of_Matches VS total no of Player_of_Match titles\",color='green')\n",
    "plt.xlabel('player of matches',color='red')\n",
    "plt.ylabel('total no of titles',color='blue')\n",
    "plt.show()"
   ]
  },
  {
   "cell_type": "markdown",
   "id": "b7140b69",
   "metadata": {},
   "source": [
    "AB de Villiers Maximum titles of player of the match"
   ]
  },
  {
   "cell_type": "markdown",
   "id": "8ab1606f",
   "metadata": {},
   "source": [
    "<img src=\"33.webp\" width=\"800\" />"
   ]
  },
  {
   "cell_type": "code",
   "execution_count": 52,
   "id": "8b4a3278",
   "metadata": {},
   "outputs": [
    {
     "data": {
      "text/plain": [
       "N    884\n",
       "Name: SuperOver, dtype: int64"
      ]
     },
     "execution_count": 52,
     "metadata": {},
     "output_type": "execute_result"
    }
   ],
   "source": [
    "df['SuperOver'].value_counts()"
   ]
  },
  {
   "cell_type": "markdown",
   "id": "c2d9754d",
   "metadata": {},
   "source": [
    "# What is the Win_Percentage of each team?"
   ]
  },
  {
   "cell_type": "code",
   "execution_count": 71,
   "id": "0eb50b51",
   "metadata": {},
   "outputs": [
    {
     "data": {
      "text/plain": [
       "Mumbai Indians                 14.027149\n",
       "Chennai Super Kings            12.895928\n",
       "Kolkata Knight Riders          12.443439\n",
       "Royal Challengers Bangalore    11.425339\n",
       "Rajasthan Royals               10.294118\n",
       "Kings XI Punjab                 8.710407\n",
       "Sunrisers Hyderabad             7.466063\n",
       "Delhi Daredevils                7.352941\n",
       "Deccan Chargers                 3.280543\n",
       "Delhi Capitals                  3.054299\n",
       "Gujarat Lions                   1.470588\n",
       "Punjab Kings                    1.470588\n",
       "Pune Warriors                   1.357466\n",
       "Gujarat Titans                  1.357466\n",
       "Rising Pune Supergiant          1.131222\n",
       "Lucknow Super Giants            1.018100\n",
       "Kochi Tuskers Kerala            0.678733\n",
       "Rising Pune Supergiants         0.565611\n",
       "Name: WinningTeam, dtype: float64"
      ]
     },
     "execution_count": 71,
     "metadata": {},
     "output_type": "execute_result"
    }
   ],
   "source": [
    "(df['WinningTeam'].value_counts()/(df['WinningTeam'].value_counts().sum()))*100"
   ]
  },
  {
   "cell_type": "code",
   "execution_count": 72,
   "id": "ad94451b",
   "metadata": {},
   "outputs": [
    {
     "data": {
      "text/plain": [
       "Mumbai Indians                 14.027149\n",
       "Chennai Super Kings            12.895928\n",
       "Kolkata Knight Riders          12.443439\n",
       "Royal Challengers Bangalore    11.425339\n",
       "Rajasthan Royals               10.294118\n",
       "Name: WinningTeam, dtype: float64"
      ]
     },
     "execution_count": 72,
     "metadata": {},
     "output_type": "execute_result"
    }
   ],
   "source": [
    "((df['WinningTeam'].value_counts()/(df['WinningTeam'].value_counts().sum()))*100)[0:5]"
   ]
  },
  {
   "cell_type": "code",
   "execution_count": 70,
   "id": "722f0021",
   "metadata": {},
   "outputs": [
    {
     "data": {
      "image/png": "[encoded data removed]",
      "text/plain": [
       "<Figure size 864x648 with 1 Axes>"
      ]
     },
     "metadata": {
      "needs_background": "light"
     },
     "output_type": "display_data"
    }
   ],
   "source": [
    "plt.figure(figsize=(12,9))\n",
    "plt.bar(list((df['WinningTeam'].value_counts()/(df['WinningTeam'].value_counts().sum())*100)[0:5].keys()),list((df['WinningTeam'].value_counts()/(df['WinningTeam'].value_counts().sum())*100)[0:5]),color=[\"blue\",\"yellow\",\"indigo\",\"red\",\"pink\"])\n",
    "plt.xlabel(\"winning teams\",color=\"red\",fontsize=14)\n",
    "plt.ylabel(\"win percentage\",color=\"orange\",fontsize=15)\n",
    "plt.title(\"win percentage w.r.t winning teams\",color=\"violet\",fontsize=20)\n",
    "plt.show()"
   ]
  },
  {
   "cell_type": "markdown",
   "id": "c69fc60b",
   "metadata": {},
   "source": [
    "Mumbai Indians has maximum win_percentage"
   ]
  },
  {
   "cell_type": "markdown",
   "id": "cb2ec78c",
   "metadata": {},
   "source": [
    "<img src=\"ll.jpg\" width=\"800\" />"
   ]
  },
  {
   "cell_type": "code",
   "execution_count": 90,
   "id": "729ac65c",
   "metadata": {},
   "outputs": [
    {
     "data": {
      "text/plain": [
       "Eden Gardens                                  77\n",
       "Wankhede Stadium                              72\n",
       "M Chinnaswamy Stadium                         62\n",
       "Feroz Shah Kotla                              59\n",
       "Rajiv Gandhi International Stadium, Uppal     48\n",
       "MA Chidambaram Stadium, Chepauk               47\n",
       "Sawai Mansingh Stadium                        47\n",
       "Punjab Cricket Association Stadium, Mohali    35\n",
       "Wankhede Stadium, Mumbai                      31\n",
       "Sheikh Zayed Stadium                          27\n",
       "Name: Venue, dtype: int64"
      ]
     },
     "execution_count": 90,
     "metadata": {},
     "output_type": "execute_result"
    }
   ],
   "source": [
    "df['Venue'].value_counts()[0:10]"
   ]
  },
  {
   "cell_type": "markdown",
   "id": "ecc56bb5",
   "metadata": {},
   "source": [
    "Most number of matches are played in Eden Gardens"
   ]
  },
  {
   "cell_type": "code",
   "execution_count": 110,
   "id": "d34348fc",
   "metadata": {},
   "outputs": [
    {
     "data": {
      "text/plain": [
       "Venue                                       WinningTeam                \n",
       "Eden Gardens                                Kolkata Knight Riders          45\n",
       "Wankhede Stadium                            Mumbai Indians                 41\n",
       "MA Chidambaram Stadium, Chepauk             Chennai Super Kings            33\n",
       "Sawai Mansingh Stadium                      Rajasthan Royals               32\n",
       "M Chinnaswamy Stadium                       Royal Challengers Bangalore    28\n",
       "Feroz Shah Kotla                            Delhi Daredevils               23\n",
       "Rajiv Gandhi International Stadium, Uppal   Sunrisers Hyderabad            19\n",
       "Punjab Cricket Association Stadium, Mohali  Kings XI Punjab                18\n",
       "Eden Gardens                                Mumbai Indians                 10\n",
       "Rajiv Gandhi International Stadium          Sunrisers Hyderabad            10\n",
       "M.Chinnaswamy Stadium                       Royal Challengers Bangalore     8\n",
       "Name: WinningTeam, dtype: int64"
      ]
     },
     "execution_count": 110,
     "metadata": {},
     "output_type": "execute_result"
    }
   ],
   "source": [
    "df.groupby(['Venue'])['WinningTeam'].value_counts().sort_values(ascending=False)[0:11]"
   ]
  },
  {
   "cell_type": "markdown",
   "id": "5722bcf9",
   "metadata": {},
   "source": [
    "kolkata knight riders won maximum matches at Eden Gardens"
   ]
  },
  {
   "cell_type": "markdown",
   "id": "4c4230ae",
   "metadata": {},
   "source": [
    "Mumbai Indians won maximum matches at Wankhede Stadium"
   ]
  },
  {
   "cell_type": "code",
   "execution_count": 117,
   "id": "b5b01985",
   "metadata": {},
   "outputs": [
    {
     "data": {
      "text/html": [
       "<div>\n",
       "<style scoped>\n",
       "    .dataframe tbody tr th:only-of-type {\n",
       "        vertical-align: middle;\n",
       "    }\n",
       "\n",
       "    .dataframe tbody tr th {\n",
       "        vertical-align: top;\n",
       "    }\n",
       "\n",
       "    .dataframe thead th {\n",
       "        text-align: right;\n",
       "    }\n",
       "</style>\n",
       "<table border=\"1\" class=\"dataframe\">\n",
       "  <thead>\n",
       "    <tr style=\"text-align: right;\">\n",
       "      <th></th>\n",
       "      <th>ID</th>\n",
       "      <th>innings</th>\n",
       "      <th>overs</th>\n",
       "      <th>ballnumber</th>\n",
       "      <th>batter</th>\n",
       "      <th>bowler</th>\n",
       "      <th>non-striker</th>\n",
       "      <th>extra_type</th>\n",
       "      <th>batsman_run</th>\n",
       "      <th>extras_run</th>\n",
       "      <th>total_run</th>\n",
       "      <th>non_boundary</th>\n",
       "      <th>isWicketDelivery</th>\n",
       "      <th>player_out</th>\n",
       "      <th>kind</th>\n",
       "      <th>fielders_involved</th>\n",
       "      <th>BattingTeam</th>\n",
       "    </tr>\n",
       "  </thead>\n",
       "  <tbody>\n",
       "    <tr>\n",
       "      <th>0</th>\n",
       "      <td>1312200</td>\n",
       "      <td>1</td>\n",
       "      <td>0</td>\n",
       "      <td>1</td>\n",
       "      <td>YBK Jaiswal</td>\n",
       "      <td>Mohammed Shami</td>\n",
       "      <td>JC Buttler</td>\n",
       "      <td>NaN</td>\n",
       "      <td>0</td>\n",
       "      <td>0</td>\n",
       "      <td>0</td>\n",
       "      <td>0</td>\n",
       "      <td>0</td>\n",
       "      <td>NaN</td>\n",
       "      <td>NaN</td>\n",
       "      <td>NaN</td>\n",
       "      <td>Rajasthan Royals</td>\n",
       "    </tr>\n",
       "    <tr>\n",
       "      <th>1</th>\n",
       "      <td>1312200</td>\n",
       "      <td>1</td>\n",
       "      <td>0</td>\n",
       "      <td>2</td>\n",
       "      <td>YBK Jaiswal</td>\n",
       "      <td>Mohammed Shami</td>\n",
       "      <td>JC Buttler</td>\n",
       "      <td>legbyes</td>\n",
       "      <td>0</td>\n",
       "      <td>1</td>\n",
       "      <td>1</td>\n",
       "      <td>0</td>\n",
       "      <td>0</td>\n",
       "      <td>NaN</td>\n",
       "      <td>NaN</td>\n",
       "      <td>NaN</td>\n",
       "      <td>Rajasthan Royals</td>\n",
       "    </tr>\n",
       "    <tr>\n",
       "      <th>2</th>\n",
       "      <td>1312200</td>\n",
       "      <td>1</td>\n",
       "      <td>0</td>\n",
       "      <td>3</td>\n",
       "      <td>JC Buttler</td>\n",
       "      <td>Mohammed Shami</td>\n",
       "      <td>YBK Jaiswal</td>\n",
       "      <td>NaN</td>\n",
       "      <td>1</td>\n",
       "      <td>0</td>\n",
       "      <td>1</td>\n",
       "      <td>0</td>\n",
       "      <td>0</td>\n",
       "      <td>NaN</td>\n",
       "      <td>NaN</td>\n",
       "      <td>NaN</td>\n",
       "      <td>Rajasthan Royals</td>\n",
       "    </tr>\n",
       "    <tr>\n",
       "      <th>3</th>\n",
       "      <td>1312200</td>\n",
       "      <td>1</td>\n",
       "      <td>0</td>\n",
       "      <td>4</td>\n",
       "      <td>YBK Jaiswal</td>\n",
       "      <td>Mohammed Shami</td>\n",
       "      <td>JC Buttler</td>\n",
       "      <td>NaN</td>\n",
       "      <td>0</td>\n",
       "      <td>0</td>\n",
       "      <td>0</td>\n",
       "      <td>0</td>\n",
       "      <td>0</td>\n",
       "      <td>NaN</td>\n",
       "      <td>NaN</td>\n",
       "      <td>NaN</td>\n",
       "      <td>Rajasthan Royals</td>\n",
       "    </tr>\n",
       "    <tr>\n",
       "      <th>4</th>\n",
       "      <td>1312200</td>\n",
       "      <td>1</td>\n",
       "      <td>0</td>\n",
       "      <td>5</td>\n",
       "      <td>YBK Jaiswal</td>\n",
       "      <td>Mohammed Shami</td>\n",
       "      <td>JC Buttler</td>\n",
       "      <td>NaN</td>\n",
       "      <td>0</td>\n",
       "      <td>0</td>\n",
       "      <td>0</td>\n",
       "      <td>0</td>\n",
       "      <td>0</td>\n",
       "      <td>NaN</td>\n",
       "      <td>NaN</td>\n",
       "      <td>NaN</td>\n",
       "      <td>Rajasthan Royals</td>\n",
       "    </tr>\n",
       "  </tbody>\n",
       "</table>\n",
       "</div>"
      ],
      "text/plain": [
       "        ID  innings  overs  ballnumber       batter          bowler  \\\n",
       "0  1312200        1      0           1  YBK Jaiswal  Mohammed Shami   \n",
       "1  1312200        1      0           2  YBK Jaiswal  Mohammed Shami   \n",
       "2  1312200        1      0           3   JC Buttler  Mohammed Shami   \n",
       "3  1312200        1      0           4  YBK Jaiswal  Mohammed Shami   \n",
       "4  1312200        1      0           5  YBK Jaiswal  Mohammed Shami   \n",
       "\n",
       "   non-striker extra_type  batsman_run  extras_run  total_run  non_boundary  \\\n",
       "0   JC Buttler        NaN            0           0          0             0   \n",
       "1   JC Buttler    legbyes            0           1          1             0   \n",
       "2  YBK Jaiswal        NaN            1           0          1             0   \n",
       "3   JC Buttler        NaN            0           0          0             0   \n",
       "4   JC Buttler        NaN            0           0          0             0   \n",
       "\n",
       "   isWicketDelivery player_out kind fielders_involved       BattingTeam  \n",
       "0                 0        NaN  NaN               NaN  Rajasthan Royals  \n",
       "1                 0        NaN  NaN               NaN  Rajasthan Royals  \n",
       "2                 0        NaN  NaN               NaN  Rajasthan Royals  \n",
       "3                 0        NaN  NaN               NaN  Rajasthan Royals  \n",
       "4                 0        NaN  NaN               NaN  Rajasthan Royals  "
      ]
     },
     "execution_count": 117,
     "metadata": {},
     "output_type": "execute_result"
    }
   ],
   "source": [
    "df2=pd.read_csv(r'C:\\Users\\malik\\Downloads\\IPL_Ball_by_Ball_2008_2022.csv')\n",
    "df2.head()"
   ]
  },
  {
   "cell_type": "code",
   "execution_count": 118,
   "id": "ceacb905",
   "metadata": {},
   "outputs": [
    {
     "data": {
      "text/plain": [
       "(225954, 17)"
      ]
     },
     "execution_count": 118,
     "metadata": {},
     "output_type": "execute_result"
    }
   ],
   "source": [
    "df2.shape"
   ]
  },
  {
   "cell_type": "code",
   "execution_count": 119,
   "id": "df494d3d",
   "metadata": {},
   "outputs": [
    {
     "data": {
      "text/plain": [
       "ID                        0\n",
       "innings                   0\n",
       "overs                     0\n",
       "ballnumber                0\n",
       "batter                    0\n",
       "bowler                    0\n",
       "non-striker               0\n",
       "extra_type           213905\n",
       "batsman_run               0\n",
       "extras_run                0\n",
       "total_run                 0\n",
       "non_boundary              0\n",
       "isWicketDelivery          0\n",
       "player_out           214803\n",
       "kind                 214803\n",
       "fielders_involved    217966\n",
       "BattingTeam               0\n",
       "dtype: int64"
      ]
     },
     "execution_count": 119,
     "metadata": {},
     "output_type": "execute_result"
    }
   ],
   "source": [
    "df2.isnull().sum()"
   ]
  },
  {
   "cell_type": "code",
   "execution_count": 121,
   "id": "5a897d80",
   "metadata": {},
   "outputs": [],
   "source": [
    "df2.drop(['extra_type','player_out','kind','fielders_involved'],axis=1,inplace=True)"
   ]
  },
  {
   "cell_type": "code",
   "execution_count": 122,
   "id": "506f5139",
   "metadata": {},
   "outputs": [
    {
     "data": {
      "text/plain": [
       "(225954, 13)"
      ]
     },
     "execution_count": 122,
     "metadata": {},
     "output_type": "execute_result"
    }
   ],
   "source": [
    "df2.shape"
   ]
  },
  {
   "cell_type": "markdown",
   "id": "bb6d5547",
   "metadata": {},
   "source": [
    "# Which batsman having the maximum runs in IPL?"
   ]
  },
  {
   "cell_type": "code",
   "execution_count": 128,
   "id": "55aa5e7d",
   "metadata": {},
   "outputs": [],
   "source": [
    "batter=df2.groupby(['batter'])['total_run'].sum().sort_values(ascending=False)"
   ]
  },
  {
   "cell_type": "code",
   "execution_count": 129,
   "id": "8290862c",
   "metadata": {},
   "outputs": [
    {
     "data": {
      "text/plain": [
       "batter\n",
       "V Kohli      6876\n",
       "S Dhawan     6561\n",
       "DA Warner    6191\n",
       "RG Sharma    6083\n",
       "SK Raina     5780\n",
       "Name: total_run, dtype: int64"
      ]
     },
     "execution_count": 129,
     "metadata": {},
     "output_type": "execute_result"
    }
   ],
   "source": [
    "batter.head()"
   ]
  },
  {
   "cell_type": "markdown",
   "id": "7e30ade6",
   "metadata": {},
   "source": [
    "Virat Kohli has scored maximum runs"
   ]
  },
  {
   "cell_type": "markdown",
   "id": "b9ec6244",
   "metadata": {},
   "source": [
    "<img src=\"Virat-Kohli_01.webp\" width=\"800\" />"
   ]
  },
  {
   "cell_type": "markdown",
   "id": "a5c00ca2",
   "metadata": {},
   "source": [
    "# Which Bowler  is having maximum No of Wickets?"
   ]
  },
  {
   "cell_type": "code",
   "execution_count": 135,
   "id": "dbf3ce87",
   "metadata": {},
   "outputs": [],
   "source": [
    "bowlers=df2.groupby(['bowler'])['isWicketDelivery'].sum().sort_values(ascending=False)"
   ]
  },
  {
   "cell_type": "code",
   "execution_count": 136,
   "id": "e26f542e",
   "metadata": {},
   "outputs": [
    {
     "data": {
      "text/plain": [
       "bowler\n",
       "DJ Bravo      207\n",
       "SL Malinga    188\n",
       "A Mishra      175\n",
       "R Ashwin      174\n",
       "YS Chahal     172\n",
       "Name: isWicketDelivery, dtype: int64"
      ]
     },
     "execution_count": 136,
     "metadata": {},
     "output_type": "execute_result"
    }
   ],
   "source": [
    "bowlers.head(5)"
   ]
  },
  {
   "cell_type": "markdown",
   "id": "e394f41f",
   "metadata": {},
   "source": [
    "DJ Bravo has taken maximum wickets"
   ]
  },
  {
   "cell_type": "markdown",
   "id": "95d1ee1e",
   "metadata": {},
   "source": [
    "<img src=\"dj.webp\" width=\"800\" />"
   ]
  },
  {
   "cell_type": "code",
   "execution_count": 139,
   "id": "eff437a3",
   "metadata": {},
   "outputs": [
    {
     "data": {
      "text/plain": [
       "Mumbai        158\n",
       "Kolkata        79\n",
       "Delhi          76\n",
       "Chennai        65\n",
       "Hyderabad      63\n",
       "Bangalore      62\n",
       "Chandigarh     56\n",
       "Pune           51\n",
       "Jaipur         47\n",
       "Abu Dhabi      35\n",
       "Name: City, dtype: int64"
      ]
     },
     "execution_count": 139,
     "metadata": {},
     "output_type": "execute_result"
    }
   ],
   "source": [
    "df['City'].value_counts()[0:10]"
   ]
  },
  {
   "cell_type": "markdown",
   "id": "09a7de05",
   "metadata": {},
   "source": [
    "Most number of matches held in Mumbai"
   ]
  },
  {
   "cell_type": "code",
   "execution_count": 141,
   "id": "3281516a",
   "metadata": {},
   "outputs": [],
   "source": [
    "df['Season']=df['Season'].replace({'2020/21':'2020','2009/10':'2010','2007/08':'2008'})"
   ]
  },
  {
   "cell_type": "code",
   "execution_count": 169,
   "id": "cd236114",
   "metadata": {},
   "outputs": [
    {
     "data": {
      "text/plain": [
       "2022    74\n",
       "2013    74\n",
       "2012    74\n",
       "2011    72\n",
       "2018    60\n",
       "2016    60\n",
       "2021    59\n",
       "2010    59\n",
       "2017    58\n",
       "2008    58\n",
       "2019    57\n",
       "2015    56\n",
       "2009    56\n",
       "2014    46\n",
       "2020    21\n",
       "Name: Season, dtype: int64"
      ]
     },
     "execution_count": 169,
     "metadata": {},
     "output_type": "execute_result"
    }
   ],
   "source": [
    "xx=df['Season'].value_counts()\n",
    "xx"
   ]
  },
  {
   "cell_type": "code",
   "execution_count": 176,
   "id": "5f8d18b3",
   "metadata": {},
   "outputs": [
    {
     "data": {
      "image/png": "[encoded data removed]",
      "text/plain": [
       "<Figure size 792x504 with 1 Axes>"
      ]
     },
     "metadata": {
      "needs_background": "light"
     },
     "output_type": "display_data"
    }
   ],
   "source": [
    "plt.figure(figsize=(11,7))\n",
    "plt.barh(xx.keys(),xx.values,color='indigo')\n",
    "plt.title(\"Seasons vs number of Matches\",fontsize=20)\n",
    "plt.xlabel(\"No of Matches\",color=\"red\",fontsize=16)\n",
    "plt.ylabel(\"Seasons\",color=\"blue\",fontsize=16)\n",
    "plt.show()"
   ]
  },
  {
   "cell_type": "markdown",
   "id": "2e7a490a",
   "metadata": {},
   "source": [
    "Most number of matches were played in 2022,2013,2012"
   ]
  },
  {
   "cell_type": "code",
   "execution_count": null,
   "id": "bc34b332",
   "metadata": {},
   "outputs": [],
   "source": []
  }
 ],
 "metadata": {
  "kernelspec": {
   "display_name": "Python 3 (ipykernel)",
   "language": "python",
   "name": "python3"
  },
  "language_info": {
   "codemirror_mode": {
    "name": "ipython",
    "version": 3
   },
   "file_extension": ".py",
   "mimetype": "text/x-python",
   "name": "python",
   "nbconvert_exporter": "python",
   "pygments_lexer": "ipython3",
   "version": "3.9.1"
  }
 },
 "nbformat": 4,
 "nbformat_minor": 5
}
